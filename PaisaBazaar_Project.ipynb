{
  "nbformat": 4,
  "nbformat_minor": 0,
  "metadata": {
    "colab": {
      "private_outputs": true,
      "provenance": [],
      "include_colab_link": true
    },
    "kernelspec": {
      "name": "python3",
      "display_name": "Python 3"
    },
    "language_info": {
      "name": "python"
    }
  },
  "cells": [
    {
      "cell_type": "markdown",
      "metadata": {
        "id": "view-in-github",
        "colab_type": "text"
      },
      "source": [
        "<a href=\"https://colab.research.google.com/github/siddhantpagare486/PaisaBazaar_Project/blob/main/PaisaBazaar_Project.ipynb\" target=\"_parent\"><img src=\"https://colab.research.google.com/assets/colab-badge.svg\" alt=\"Open In Colab\"/></a>"
      ]
    },
    {
      "cell_type": "markdown",
      "source": [
        "# **Project Name**    - **Paisabazaar Credit Score Prediction and Risk Profiling**\n"
      ],
      "metadata": {
        "id": "vncDsAP0Gaoa"
      }
    },
    {
      "cell_type": "markdown",
      "source": [
        "### **Project Type**    - **Exploratory Data Analysis**\n",
        "### **By - Siddhant Pagare**\n"
      ],
      "metadata": {
        "id": "beRrZCGUAJYm"
      }
    },
    {
      "cell_type": "markdown",
      "source": [
        "## **Project Summary -**\n"
      ],
      "metadata": {
        "id": "FJNUwmbgGyua"
      }
    },
    {
      "cell_type": "markdown",
      "source": [
        "\n",
        "\n",
        "This project aims to build a robust credit score classification model for Paisabazaar, a leading financial services platform, using a systematic Exploratory Data Analysis (EDA) and machine learning approach. The primary objective is to predict whether a customer’s credit score is Good, Average, or Poor based on financial behavior and personal data, such as income, credit utilization, payment history, and outstanding debt. The project begins with comprehensive technical documentation and data exploration in a Colab Notebook, using commands like .head(), .tail(), and .describe() to understand the dataset. A data dictionary is created to define each feature clearly.\n",
        "\n",
        "Missing values and null entries are detected and handled using imputation strategies based on column types, ensuring clean and usable data. Outliers are identified using Interquartile Range (IQR) and capped or transformed appropriately. Correlation heatmaps, pairplots, and trend analysis are used to derive meaningful insights from the data, such as the impact of late payments or high credit usage on credit scores. The project adheres to the milestones in the problem statement by incorporating five or more types of visualizations—bar plots, histograms, pie charts, box plots, and scatter plots—to present patterns and distribution.\n",
        "\n",
        "The code is modular, well-commented, and outputs are properly formatted for clarity. A final summary consolidates the findings from EDA, data cleaning, and model training. For presentation, a video walkthrough will be created, ensuring grammatical accuracy and fluency, clearly explaining the approach, insights, and model logic to stakeholders. The project not only fulfills the rubric requirements but also demonstrates a scalable approach to credit scoring, helping Paisabazaar enhance its risk assessment and financial recommendation systems.\n",
        "\n"
      ],
      "metadata": {
        "id": "iF6VCRXRnarK"
      }
    },
    {
      "cell_type": "markdown",
      "source": [
        "# **Problem Statement**\n"
      ],
      "metadata": {
        "id": "yQaldy8SH6Dl"
      }
    },
    {
      "cell_type": "markdown",
      "source": [
        "Paisabazaar aims to improve its credit risk assessment process by accurately predicting the credit score category (Good, Average, Poor) of individuals based on their financial and behavioral data. Credit scores are critical for financial institutions to evaluate the creditworthiness of a customer and decide loan eligibility, interest rates, and credit limits. However, manual assessment is time-consuming and inconsistent.\n",
        "\n",
        "The objective of this project is to build a classification model that can predict the credit score category of a customer using features such as annual income, credit card utilization, outstanding debt, number of late payments, and repayment behavior. This will involve performing a thorough Exploratory Data Analysis (EDA), handling missing values and outliers, generating actionable insights, and training a machine learning model that is both accurate and interpretable.\n",
        "\n",
        "The solution should enhance Paisabazaar’s ability to:\n",
        "\n",
        "*   Automate creditworthiness evaluation\n",
        "*   Reduce loan default risks\n",
        "*   Offer personalized financial products\n",
        "*   Improve customer satisfaction and financial inclusion\n",
        "\n",
        "\n",
        "\n",
        "\n"
      ],
      "metadata": {
        "id": "DpeJGUA3kjGy"
      }
    },
    {
      "cell_type": "markdown",
      "source": [
        "# **General Guidelines** : -  "
      ],
      "metadata": {
        "id": "mDgbUHAGgjLW"
      }
    },
    {
      "cell_type": "markdown",
      "source": [
        "1. **Understand the Problem Clearly**\n",
        "\n",
        "*Define the goal* : Classify customers into credit score categories (Good, Average, Poor).\n",
        "\n",
        "Know the business impact: Credit scoring affects loan approvals, product offerings, and default risk.\n",
        "\n",
        "2. **Dataset Familiarization **\n",
        "\n",
        "Explore all features and understand what each one represents.\n",
        "\n",
        "Check data types, ranges, and missing/null values.\n",
        "\n",
        "Create a data dictionary for easy reference.\n",
        "\n",
        "3. **Exploratory Data Analysis (EDA)**\n",
        "\n",
        "Use .head(), .describe(), .info() to summarize data.\n",
        "\n",
        "Perform value counts on categorical features.\n",
        "\n",
        "Use at least 5 types of visualizations:\n",
        "\n",
        "*Histogram*\n",
        "\n",
        "*Boxplot*\n",
        "\n",
        "*Correlation Heatmap*\n",
        "\n",
        "*Pie Chart or Count Plot*\n",
        "\n",
        "*Scatter Plot or Pair Plot *italicized text*\n",
        "\n",
        "4. **Data Cleaning**\n",
        "\n",
        "Handle missing values using mean, median, or mode.\n",
        "\n",
        "Treat outliers using IQR or Z-score.\n",
        "\n",
        "Convert categorical variables using encoding techniques.\n",
        "\n",
        "5. **Feature Engineering**\n",
        "\n",
        "Create new features if necessary (e.g., debt-to-income ratio).\n",
        "\n",
        "Normalize or scale features if required.\n",
        "\n",
        "6. **Modeling**\n",
        "\n",
        "Try multiple classification algorithms (Logistic Regression, Random Forest, Decision Tree, XGBoost).\n",
        "\n",
        "Split dataset into train and test sets.\n",
        "\n",
        "Use cross-validation for better generalization.\n",
        "\n",
        "7. **Evaluation**\n",
        "\n",
        "Use metrics like accuracy, precision, recall, and F1-score.\n",
        "\n",
        "Interpret the results clearly with confusion matrix.\n",
        "\n",
        "8. **Documentation**\n",
        "\n",
        "Keep your code modular and commented.\n",
        "\n",
        "Format outputs for readability.\n",
        "\n",
        "Summarize findings after EDA and modeling.\n",
        "\n",
        "Clearly explain your steps in a Colab Notebook.\n",
        "\n",
        "9. **Video Presentation**\n",
        "\n",
        "Clearly articulate your approach and results.\n",
        "\n",
        "Ensure fluency and grammatical accuracy.\n",
        "\n",
        "Highlight visual insights, modeling choices, and impact on stakeholders.\n",
        "\n",
        "10. **Final Submission**\n",
        "\n",
        "Include the Colab notebook, project summary, video presentation, and all relevant files.\n"
      ],
      "metadata": {
        "id": "ZrxVaUj-hHfC"
      }
    },
    {
      "cell_type": "markdown",
      "source": [
        "# ***Let's Begin !***"
      ],
      "metadata": {
        "id": "O_i_v8NEhb9l"
      }
    },
    {
      "cell_type": "markdown",
      "source": [
        "## ***1. Getting to know the data***"
      ],
      "metadata": {
        "id": "HhfV-JJviCcP"
      }
    },
    {
      "cell_type": "markdown",
      "source": [
        "### Import Libraries"
      ],
      "metadata": {
        "id": "Y3lxredqlCYt"
      }
    },
    {
      "cell_type": "code",
      "source": [
        "# Import Libraries\n",
        "import pandas as pd\n",
        "import numpy as np\n",
        "import datetime as dt\n",
        "import matplotlib.pyplot as plt\n",
        "import seaborn as sns\n",
        "import plotly.express as px"
      ],
      "metadata": {
        "id": "M8Vqi-pPk-HR"
      },
      "execution_count": null,
      "outputs": []
    },
    {
      "cell_type": "markdown",
      "source": [
        "### Dataset Loading"
      ],
      "metadata": {
        "id": "3RnN4peoiCZX"
      }
    },
    {
      "cell_type": "code",
      "source": [
        "# Load Dataset\n",
        "from google.colab import drive\n",
        "drive.mount('/content/drive')"
      ],
      "metadata": {
        "id": "4CkvbW_SlZ_R",
        "collapsed": true
      },
      "execution_count": null,
      "outputs": []
    },
    {
      "cell_type": "markdown",
      "source": [
        "### Dataset First View"
      ],
      "metadata": {
        "id": "x71ZqKXriCWQ"
      }
    },
    {
      "cell_type": "code",
      "source": [
        "# Dataset First Look\n",
        "data=pd.read_csv(\"/content/drive/MyDrive/Paisabazaar.csv\")\n",
        "data"
      ],
      "metadata": {
        "id": "LWNFOSvLl09H"
      },
      "execution_count": null,
      "outputs": []
    },
    {
      "cell_type": "code",
      "source": [
        "data.head(10) #First 10 rows"
      ],
      "metadata": {
        "collapsed": true,
        "id": "MjUyEVqufge5"
      },
      "execution_count": null,
      "outputs": []
    },
    {
      "cell_type": "code",
      "source": [
        "data.tail(7) # Last 7 rows"
      ],
      "metadata": {
        "collapsed": true,
        "id": "5sttGluEgFg2"
      },
      "execution_count": null,
      "outputs": []
    },
    {
      "cell_type": "markdown",
      "source": [
        "### Dataset Rows & Columns count"
      ],
      "metadata": {
        "id": "7hBIi_osiCS2"
      }
    },
    {
      "cell_type": "code",
      "source": [
        "# Dataset Rows & Columns count\n",
        "data.shape"
      ],
      "metadata": {
        "id": "Kllu7SJgmLij",
        "collapsed": true
      },
      "execution_count": null,
      "outputs": []
    },
    {
      "cell_type": "markdown",
      "source": [
        "### Dataset Description"
      ],
      "metadata": {
        "id": "JlHwYmJAmNHm"
      }
    },
    {
      "cell_type": "code",
      "source": [
        "# Dataset Description\n",
        "data.describe()"
      ],
      "metadata": {
        "id": "e9hRXRi6meOf",
        "collapsed": true
      },
      "execution_count": null,
      "outputs": []
    },
    {
      "cell_type": "markdown",
      "source": [
        "#### Duplicate Values"
      ],
      "metadata": {
        "id": "35m5QtbWiB9F"
      }
    },
    {
      "cell_type": "code",
      "source": [
        "# Dataset Duplicate Value Count of columns\n",
        "data.duplicated()"
      ],
      "metadata": {
        "id": "1sLdpKYkmox0",
        "collapsed": true
      },
      "execution_count": null,
      "outputs": []
    },
    {
      "cell_type": "code",
      "source": [
        "#find unique in name column\n",
        "data[\"Name\"].unique()\n",
        "len(data[\"Name\"].unique())"
      ],
      "metadata": {
        "collapsed": true,
        "id": "luAH9Rs3O9NO"
      },
      "execution_count": null,
      "outputs": []
    },
    {
      "cell_type": "markdown",
      "source": [
        "#### Missing Values/Null Values and column datatype info"
      ],
      "metadata": {
        "id": "PoPl-ycgm1ru"
      }
    },
    {
      "cell_type": "code",
      "source": [
        "# Missing Values/Null Values Count\n",
        "data.isnull().sum()"
      ],
      "metadata": {
        "id": "GgHWkxvamxVg",
        "collapsed": true
      },
      "execution_count": null,
      "outputs": []
    },
    {
      "cell_type": "code",
      "source": [
        "# Visualizing the missing values\n",
        "data.isnull().sum().plot(kind='bar') # will show nothing coz no missing value is present"
      ],
      "metadata": {
        "id": "3q5wnI3om9sJ",
        "collapsed": true
      },
      "execution_count": null,
      "outputs": []
    },
    {
      "cell_type": "code",
      "source": [
        "#Column names\n",
        "data.columns"
      ],
      "metadata": {
        "collapsed": true,
        "id": "bSdtYOjn4lNv"
      },
      "execution_count": null,
      "outputs": []
    },
    {
      "cell_type": "code",
      "source": [
        "#dataset information\n",
        "data.info()"
      ],
      "metadata": {
        "collapsed": true,
        "id": "wNxrMQZHCkuw"
      },
      "execution_count": null,
      "outputs": []
    },
    {
      "cell_type": "code",
      "source": [
        "#get columns with float data type\n",
        "data.select_dtypes(include=\"float64\").columns\n"
      ],
      "metadata": {
        "collapsed": true,
        "id": "x6rY07oXDG3o"
      },
      "execution_count": null,
      "outputs": []
    },
    {
      "cell_type": "code",
      "source": [
        "#length of float data type columns\n",
        "len(data.select_dtypes(include=\"float64\").columns)"
      ],
      "metadata": {
        "id": "VAvyEZrvDu4Q"
      },
      "execution_count": null,
      "outputs": []
    },
    {
      "cell_type": "code",
      "source": [
        "#columns with integer data type\n",
        "data.select_dtypes(include=\"int64\").columns"
      ],
      "metadata": {
        "collapsed": true,
        "id": "zQ-S7bVjD66X"
      },
      "execution_count": null,
      "outputs": []
    },
    {
      "cell_type": "code",
      "source": [
        "#number of columns with integer data type\n",
        "len(data.select_dtypes(include=\"int64\").columns)"
      ],
      "metadata": {
        "id": "VdwPAh95ET44"
      },
      "execution_count": null,
      "outputs": []
    },
    {
      "cell_type": "code",
      "source": [
        "#object columns\n",
        "data.select_dtypes(include=\"object\").columns"
      ],
      "metadata": {
        "id": "QXp_RFO3HHKw",
        "collapsed": true
      },
      "execution_count": null,
      "outputs": []
    },
    {
      "cell_type": "code",
      "source": [
        "#length of object datatype columns\n",
        "len(data.select_dtypes(include=\"object\").columns)"
      ],
      "metadata": {
        "id": "M5lajReeHVPG"
      },
      "execution_count": null,
      "outputs": []
    },
    {
      "cell_type": "code",
      "source": [
        "#unique valuse\n",
        "for col in data.columns:\n",
        "    print(f\"{col}: {data[col].nunique()} unique values\")\n"
      ],
      "metadata": {
        "collapsed": true,
        "id": "NYL7IlgAL2qv"
      },
      "execution_count": null,
      "outputs": []
    },
    {
      "cell_type": "markdown",
      "source": [
        "### What did you know about your dataset?"
      ],
      "metadata": {
        "id": "H0kj-8xxnORC"
      }
    },
    {
      "cell_type": "markdown",
      "source": [
        "Upon initial examination, the dataset consists of 100,000 records and 28 well-structured columns. It is noteworthy that the dataset is free from duplicate entries and contains no missing values, providing a robust and reliable foundation for analysis. This eliminates the need for initial data cleaning related to null values or redundancy.\n",
        "\n",
        "The dataset features:\n",
        "\n",
        "1] 18 columns with float64 data type,\n",
        "\n",
        "2] 3 columns with int64 data type, and\n",
        "\n",
        "3] 7 columns with object data type.\n",
        "\n",
        "This rich combination of numerical and categorical variables offers substantial potential for extracting meaningful insights and building predictive models."
      ],
      "metadata": {
        "id": "gfoNAAC-nUe_"
      }
    },
    {
      "cell_type": "markdown",
      "source": [
        "## ***2. Univariate Analysis***"
      ],
      "metadata": {
        "id": "nA9Y7ga8ng1Z"
      }
    },
    {
      "cell_type": "code",
      "source": [
        "# for annual income\n",
        "sns.histplot(data['Annual_Income'], kde=True)\n",
        "plt.title(\"Distribution of Annual Income\")\n",
        "plt.show()"
      ],
      "metadata": {
        "id": "GiBuulsl-Wlo"
      },
      "execution_count": null,
      "outputs": []
    },
    {
      "cell_type": "code",
      "source": [
        "#box plot for Annual income\n",
        "fig=px.box(data,x=\"Annual_Income\",title=\"Boxplot for Annual income\")\n",
        "fig.show()"
      ],
      "metadata": {
        "id": "E6KxNVtW_PxR"
      },
      "execution_count": null,
      "outputs": []
    },
    {
      "cell_type": "markdown",
      "source": [
        "Insights of Annual Income of Customers:-\n",
        "\n",
        "\n",
        "*   The Annual income vs count plot is right skewed\n",
        "\n",
        "- Median annual income is approximately ₹37,000–₹40,000.\n",
        "- The majority of incomes (50%) fall between ₹20,000 and ₹70,000.\n",
        "- Data shows a **positive skew**, with some individuals earning exceptionally high incomes.\n",
        "- Outliers are present above ₹150,000, indicating a small group of high earners.\n",
        "- These findings suggest a dominant middle-income segment with a niche high-income market, both of which require different product strategies.\n",
        "\n",
        "\n"
      ],
      "metadata": {
        "id": "jmmqhP7d_t_4"
      }
    },
    {
      "cell_type": "code",
      "source": [
        "#for Outstanding Debt\n",
        "sns.histplot(data[\"Outstanding_Debt\"],kde=True,color=\"red\")\n",
        "plt.title(\"Distribution of Outstanding Debt\")\n",
        "plt.show()"
      ],
      "metadata": {
        "id": "vwNdsnoIAmzf"
      },
      "execution_count": null,
      "outputs": []
    },
    {
      "cell_type": "code",
      "source": [
        "#Box plot for Outstanding Dept for finding outliers\n",
        "fig=px.box(data,x=\"Outstanding_Debt\",title=\"Box Plot of Outstanding Debt\",points='outliers')\n",
        "fig.show()"
      ],
      "metadata": {
        "id": "RQx0S2tSCOPy"
      },
      "execution_count": null,
      "outputs": []
    },
    {
      "cell_type": "markdown",
      "source": [
        "Insights for Outstanding_Debt:-\n",
        "- The distribution of `Outstanding_Debt` is **right-skewed**, meaning most users owe a relatively small amount.\n",
        "- Multiple peaks in the distribution suggest the presence of **distinct customer segments**.\n",
        "- The median outstanding debt is approximately ₹1300.\n",
        "- 50% of users have debts between ₹500 and ₹2000.\n",
        "- A significant number of outliers exist above ₹4000, with some nearing ₹5000.\n",
        "- A small portion of users has very high outstanding debt (>₹4000), which could indicate **higher credit risk**.\n",
        "\n"
      ],
      "metadata": {
        "id": "VjU_XNp8CvTT"
      }
    },
    {
      "cell_type": "code",
      "source": [
        "#MOnthly balance\n",
        "sns.histplot(data['Monthly_Balance'], kde=True,color=\"purple\")\n",
        "plt.title(\"Distribution of Monthly Balance\")\n",
        "plt.show()"
      ],
      "metadata": {
        "id": "PVwbBTVkFlx3",
        "collapsed": true
      },
      "execution_count": null,
      "outputs": []
    },
    {
      "cell_type": "code",
      "source": [
        "fig=px.box(data,x=\"Monthly_Balance\",title=\"Box Plot of Monthly Balance\",points='outliers')\n",
        "fig.show()"
      ],
      "metadata": {
        "id": "DJ3LxYoiGBKP",
        "collapsed": true
      },
      "execution_count": null,
      "outputs": []
    },
    {
      "cell_type": "markdown",
      "source": [
        "Insights for Monthly Balance:-\n",
        "\n",
        "\n",
        "*   The distribution is right-skewed (positively skewed).\n",
        "*   The median (central vertical line in the box) lies slightly left of the box center, indicating a slightly left-skewed distribution, though still somewhat symmetric.\n",
        "*   The box represents the middle 50% of the data (from Q1 to Q3).\n",
        "*   This range shows the majority of customers have monthly balances between approximately ₹250 and ₹500.\n",
        "*   A significant number of outliers are visible beyond ₹800, with some reaching nearly ₹1200.\n",
        "\n"
      ],
      "metadata": {
        "id": "qjPEIHm_jLct"
      }
    },
    {
      "cell_type": "code",
      "source": [
        "#For number of delayed payment\n",
        "sns.histplot(data,x=\"Num_of_Delayed_Payment\",color=\"green\")\n",
        "plt.title(\"Distribution of Number of Delayed Payments\")\n",
        "plt.show()"
      ],
      "metadata": {
        "id": "-CBuR2yekhMi"
      },
      "execution_count": null,
      "outputs": []
    },
    {
      "cell_type": "code",
      "source": [
        "fig=px.box(data,x=\"Num_of_Delayed_Payment\",title=\"Box Plot of Number of Delayed Payments\")\n",
        "fig.show()"
      ],
      "metadata": {
        "id": "fb9bpnXelVkN"
      },
      "execution_count": null,
      "outputs": []
    },
    {
      "cell_type": "markdown",
      "source": [
        "Insights for Delayed Payments:-\n",
        "\n",
        "\n",
        "*   Customers with ≤ 8 delayed payments may be considered low risk and reliable.\n",
        "\n",
        "*   Customers with > 19 delays fall into the high-risk zone and may need attention for credit risk assessment.\n",
        "*   This feature can be valuable for segmenting customers based on payment discipline.\n",
        "\n"
      ],
      "metadata": {
        "id": "DCSsmi_al1Po"
      }
    },
    {
      "cell_type": "code",
      "source": [
        "#Changed Credit Limit\n",
        "sns.histplot(data,x=\"Changed_Credit_Limit\",color=\"orange\",kde=True)\n",
        "plt.title(\"Distribution of Changed Credit Limit\")\n",
        "plt.show()"
      ],
      "metadata": {
        "id": "hnS0T1fYmNjM"
      },
      "execution_count": null,
      "outputs": []
    },
    {
      "cell_type": "code",
      "source": [
        "fig=px.box(data,x=\"Changed_Credit_Limit\",title=\"Distribution of Changed Credit Limit\")\n",
        "fig.show()"
      ],
      "metadata": {
        "id": "RNFJcmQOoMFz"
      },
      "execution_count": null,
      "outputs": []
    },
    {
      "cell_type": "markdown",
      "source": [
        "Insights for delayed payment:-\n",
        "\n",
        "*  The median changed credit limit is approximately 10, indicating that 50% of the customers had a credit limit change of ≤ 10 units.\n",
        "\n",
        "*  The minimum value appears close to 0, showing some customers had very minimal or no change in their credit limits.\n",
        "\n",
        "*   The maximum is around 30, suggesting that some customers experienced significant increases in their credit limits.\n",
        "\n",
        "*   The right whisker is longer, indicating a slight positive skew — a small number of customers had much higher credit limit changes compared to the rest.\n",
        "\n",
        "*  A small segment with high credit limit changes (≥25) could represent customers with improved creditworthiness or income.\n",
        "\n"
      ],
      "metadata": {
        "id": "yVDV13WanOsc"
      }
    },
    {
      "cell_type": "code",
      "source": [
        "#Credit Utilization Ratio\n",
        "sns.histplot(data,x=\"Credit_Utilization_Ratio\",color=\"blue\",kde=True)\n",
        "plt.title(\"Distribution of Credit Utilization Ratio\")\n",
        "plt.show()"
      ],
      "metadata": {
        "id": "lW4Abl18pcGV"
      },
      "execution_count": null,
      "outputs": []
    },
    {
      "cell_type": "code",
      "source": [
        "fig=px.box(data,x=\"Credit_Utilization_Ratio\",title=\"Distribution of Credit Utilization Ratio\")\n",
        "fig.show()"
      ],
      "metadata": {
        "id": "Q4gwiqg7pklt"
      },
      "execution_count": null,
      "outputs": []
    },
    {
      "cell_type": "markdown",
      "source": [
        "Insights for Credit Utilization ratio:-\n",
        "\n",
        "*  The presence of outliers on the higher end, suggests a slight positive (right) skew.\n",
        "*  The minimum credit utilization ratio observed is 20%. The maximum observed ratio is 50%.\n",
        "*  The median credit utilization ratio is approximately 32.31%.\n",
        "*  The data suggests a population that generally manages its credit utilization in the moderate to low-moderate range, with a small segment that uses a higher proportion of their available credit."
      ],
      "metadata": {
        "id": "KIEUih6kqzUC"
      }
    },
    {
      "cell_type": "code",
      "source": [
        "#Interest Rate\n",
        "sns.countplot(data,x=\"Interest_Rate\",color=\"brown\")\n",
        "plt.title(\"Distribution of Interest Rate\")\n",
        "plt.xticks(rotation=90)\n",
        "plt.show()"
      ],
      "metadata": {
        "id": "1AgVKywSsDGu"
      },
      "execution_count": null,
      "outputs": []
    },
    {
      "cell_type": "code",
      "source": [
        "fig=px.box(data,x=\"Interest_Rate\",title=\"Distribution of Interest Rate\")\n",
        "fig.show()"
      ],
      "metadata": {
        "id": "xdEuBOQhsMWW"
      },
      "execution_count": null,
      "outputs": []
    },
    {
      "cell_type": "markdown",
      "source": [
        "Insights for Interest Rate:-\n",
        "\n",
        "The distribution of interest rates ranges from 1% to 34%. The majority of interest rates fall between 7% and 20%, with a median of 13%. There are no identified outliers, and the distribution appears to be relatively symmetric."
      ],
      "metadata": {
        "id": "HXYYbizPtAKi"
      }
    },
    {
      "cell_type": "code",
      "source": [
        "#for number of credit card\n",
        "sns.countplot(data,x=\"Num_Credit_Card\",color=\"pink\")\n",
        "plt.title(\"Distribution of Number of Credit Cards\")\n",
        "plt.show()"
      ],
      "metadata": {
        "id": "74abzUwutJCS"
      },
      "execution_count": null,
      "outputs": []
    },
    {
      "cell_type": "code",
      "source": [
        "fig=px.box(data,x=\"Num_Credit_Card\",title=\"Distribution of Number of Credit Cards\")\n",
        "fig.show()"
      ],
      "metadata": {
        "id": "bu1qBPoPtZlS"
      },
      "execution_count": null,
      "outputs": []
    },
    {
      "cell_type": "markdown",
      "source": [
        "Insights for Credit Card Number:-\n",
        "\n",
        "The number of credit cards held by individuals in this dataset ranges from 0 to 11. The majority of individuals have between 4 and 7 credit cards, with a median of 5. The distribution shows a slight tendency towards individuals having more credit cards, but all observed counts fall within the calculated fences, indicating no extreme outliers."
      ],
      "metadata": {
        "id": "ktSYl_VPuMGh"
      }
    },
    {
      "cell_type": "code",
      "source": [
        "# NUmbers of bank Account\n",
        "sns.countplot(data,x=\"Num_Bank_Accounts\",color=\"yellow\")\n",
        "plt.title(\"Distribution of Number of Bank Accounts\")\n",
        "plt.show()"
      ],
      "metadata": {
        "collapsed": true,
        "id": "bUj9TA1AyQSb"
      },
      "execution_count": null,
      "outputs": []
    },
    {
      "cell_type": "code",
      "source": [
        "fig=px.box(data,x=\"Num_Bank_Accounts\",title=\"Distribution of Number of Bank Accounts\")\n",
        "fig.show()"
      ],
      "metadata": {
        "collapsed": true,
        "id": "96HkFCwByuQU"
      },
      "execution_count": null,
      "outputs": []
    },
    {
      "cell_type": "markdown",
      "source": [
        "Insights for bank accounts:-\n",
        "- The median number of bank accounts is **5**.\n",
        "- The data has **no outliers**, as all values fall within the lower (0) and upper (11) fences.\n",
        "- The distribution appears to be **fairly symmetric**, with no visible skewness.\n",
        "- The number of bank accounts ranges from **0 to 11**, showing a moderate spread."
      ],
      "metadata": {
        "id": "G27lYCUYzWIy"
      }
    },
    {
      "cell_type": "code",
      "source": [],
      "metadata": {
        "id": "hZ5GSfZsz1i8"
      },
      "execution_count": null,
      "outputs": []
    },
    {
      "cell_type": "code",
      "source": [
        "#For numerical column -1] Annual Income with credit score\n",
        "avg_income = data.groupby('Credit_Score')['Annual_Income'].mean().reset_index()\n",
        "\n",
        "fig = px.bar(avg_income, x='Credit_Score', y='Annual_Income',\n",
        "             title='Average Annual Income by Credit Score',\n",
        "             color='Credit_Score', text='Annual_Income')\n",
        "fig.show()"
      ],
      "metadata": {
        "id": "j7xfkqrt5Ag5",
        "collapsed": true
      },
      "execution_count": null,
      "outputs": []
    },
    {
      "cell_type": "code",
      "source": [
        "#Box plot for Annual income\n",
        "fig=px.box(avg_income, x='Annual_Income',title=\"Box Plot of Annual Income\",points='outliers')\n",
        "fig.show()"
      ],
      "metadata": {
        "id": "DnOaZdaE5Q5t",
        "collapsed": true
      },
      "execution_count": null,
      "outputs": []
    },
    {
      "cell_type": "markdown",
      "source": [
        "Insights:-\n",
        "\n",
        "\n",
        "*   If Average Annual income > 50987  credit score is good\n",
        "*   If Average Annual income <= 50987 credit score is standard\n",
        "*   If Average Annual income <= 40584 credit score is poor\n",
        "\n",
        "Box Plot :-\n",
        "\n",
        "- **Median Annual Income** is around ₹50,000.\n",
        "- Most customers earn between ₹43,000 and ₹57,000.\n",
        "- Distribution is **fairly symmetrical**, indicating no skewness.\n",
        "- **No extreme outliers** suggest clean data and a well-targeted customer base.\n",
        "- Insights can help Paisabazaar develop financial products for the middle-income segment, which represents the bulk of users.\n",
        "\n",
        "\n",
        "\n",
        "\n"
      ],
      "metadata": {
        "id": "2TKViBZ9wqLP"
      }
    },
    {
      "cell_type": "code",
      "source": [
        "# 2] Outstanding_Debt\n",
        "sns.histplot(data['Outstanding_Debt'], kde=True)\n",
        "plt.title(\"Distribution of Outstanding Debt\")\n",
        "plt.show()"
      ],
      "metadata": {
        "id": "nOE-tdN7riXo"
      },
      "execution_count": null,
      "outputs": []
    },
    {
      "cell_type": "code",
      "source": [
        "#Box plot for Outstending debt\n",
        "fig=px.box(data,x=\"Outstanding_Debt\",title=\"Box Plot of Outstanding Debt\",points='outliers')\n",
        "fig.show()"
      ],
      "metadata": {
        "id": "zHZZFmxHtWJ7"
      },
      "execution_count": null,
      "outputs": []
    },
    {
      "cell_type": "markdown",
      "source": [
        "## 3. ***Bivariate Analysis***\n"
      ],
      "metadata": {
        "id": "dauF4eBmngu3"
      }
    },
    {
      "cell_type": "code",
      "source": [
        "#Annula income vs credit score\n",
        "avg_income=data.groupby(\"Credit_Score\")[\"Annual_Income\"].mean().reset_index()\n",
        "fig=px.bar(avg_income,x=\"Credit_Score\",y=\"Annual_Income\",title=\"Average Annual Income by Credit Score\",color=\"Credit_Score\")\n",
        "fig.show()"
      ],
      "metadata": {
        "id": "RjVFecuW2w50"
      },
      "execution_count": null,
      "outputs": []
    },
    {
      "cell_type": "markdown",
      "source": [
        "Analysis: Average Annual Income by Credit Score\n",
        "\n",
        "- The average annual income **increases** as the credit score category improves.\n",
        "- Individuals with a **'Good' credit score** have the **highest average income**, around **₹65,200**.\n",
        "- Those with a **'Standard' credit score** earn moderately, with an average income slightly above **₹50,000**.\n",
        "- People categorized under **'Poor' credit score** have the **lowest average annual income**, approximately **₹40,000**.\n",
        "- This trend suggests a **positive relationship between income and credit score** — higher income levels may lead to better credit behavior, resulting in a better credit score.\n",
        "- It also highlights that **financial capacity** could influence one's ability to manage debt responsibly and maintain a strong credit profile.\n"
      ],
      "metadata": {
        "id": "gLxQBSFk_DFw"
      }
    },
    {
      "cell_type": "code",
      "source": [
        "#Outsatnding Debt vs Credit score\n",
        "avg_debt=data.groupby(\"Credit_Score\")[\"Outstanding_Debt\"].mean().reset_index()\n",
        "fig=px.bar(avg_debt,x=\"Credit_Score\",y=\"Outstanding_Debt\",title=\"Average Outstanding Debt by Credit Score\",color=\"Credit_Score\")\n",
        "fig.show()"
      ],
      "metadata": {
        "id": "iqFEcAY__WOt"
      },
      "execution_count": null,
      "outputs": []
    },
    {
      "cell_type": "markdown",
      "source": [
        " Insights: Average Outstanding Debt by Credit Score\n",
        "\n",
        "1. **Poor credit scores** have the **highest average debt** (~₹2081), indicating higher financial risk.\n",
        "2. **Standard scores** show **moderate debt** (~₹1300–₹1400), reflecting average credit behavior.\n",
        "3. **Good credit scores** have the **lowest debt** (~₹800), showing strong financial discipline.\n",
        "4. There is a **negative correlation**: higher debt generally leads to lower credit scores.\n",
        "\n",
        "---\n",
        "\n",
        " Analytical Implications\n",
        "\n",
        "- Poor scorers may need **credit limits or monitoring** due to high risk.\n",
        "- Use **targeted interventions** like counseling or debt repayment plans.\n",
        "\n"
      ],
      "metadata": {
        "id": "WbmnzMG_AODu"
      }
    },
    {
      "cell_type": "code",
      "source": [
        "#Monthly balance vs Credit Score\n",
        "avg_balance=data.groupby(\"Credit_Score\")[\"Monthly_Balance\"].mean().reset_index()\n",
        "fig=px.bar(avg_balance,x=\"Credit_Score\",y=\"Monthly_Balance\",title=\"Average Monthly Balance by Credit Score\",color=\"Credit_Score\")\n",
        "fig.show()"
      ],
      "metadata": {
        "id": "WyX5-uf8Aqgy"
      },
      "execution_count": null,
      "outputs": []
    },
    {
      "cell_type": "markdown",
      "source": [
        " Analysis: Average Monthly Balance by Credit Score\n",
        "\n",
        "- Individuals with a **'Good' credit score** have the **highest average monthly balance**, approximately **₹456.7**, indicating better savings or spending control.\n",
        "- Those in the **'Standard' credit score** category maintain an average monthly balance of around **₹400**, which is moderate.\n",
        "- Individuals with a **'Poor' credit score** have the **lowest average monthly balance**, around **₹340**.\n",
        "- This trend shows a **positive relationship between monthly balance and credit score** — people who maintain higher balances are more likely to have better credit scores.\n",
        "- It highlights the importance of financial discipline and balance retention in maintaining a healthy credit profile.\n"
      ],
      "metadata": {
        "id": "DaBESaWJBHWa"
      }
    },
    {
      "cell_type": "code",
      "source": [
        "#Credit Utilization Ratio vs Credit score\n",
        "avg_utilization=data.groupby(\"Credit_Score\")[\"Credit_Utilization_Ratio\"].mean().reset_index()\n",
        "fig=px.pie(avg_utilization,values=\"Credit_Utilization_Ratio\",names=\"Credit_Score\",title=\"Average Credit Utilization Ratio by Credit Score\")\n",
        "fig.show()"
      ],
      "metadata": {
        "collapsed": true,
        "id": "xgU7QEQzBOsU"
      },
      "execution_count": null,
      "outputs": []
    },
    {
      "cell_type": "markdown",
      "source": [
        "### 📊 Insights: Average Credit Utilization Ratio by Credit Score\n",
        "\n",
        "1. **Good Credit Score:**  \n",
        "   - Accounts for **33.7%** of the average credit utilization ratio.\n",
        "   - Slightly higher share than the other categories, possibly indicating optimal credit use within acceptable limits.\n",
        "\n",
        "2. **Standard Credit Score:**  \n",
        "   - Represents **33.3%** of the average credit utilization.\n",
        "   - Very close to both good and poor categories, suggesting similar credit usage patterns.\n",
        "\n",
        "3. **Poor Credit Score:**  \n",
        "   - Makes up **33.0%** of the utilization ratio.\n",
        "   - Slightly lower than others, but the difference is marginal.\n",
        "\n",
        "---\n",
        "\n",
        "### 🧠 Analytical Implications\n",
        "\n",
        "- The **credit utilization ratio is relatively balanced** across all credit score categories.\n",
        "- This suggests **credit utilization alone may not be the strongest factor** differentiating credit scores in this dataset.\n",
        "- To better distinguish credit score categories, combine this metric with others like **outstanding debt, payment history**, or **delayed payments**.\n",
        "\n",
        "\n"
      ],
      "metadata": {
        "id": "rD8SWUP5CHW0"
      }
    },
    {
      "cell_type": "code",
      "source": [
        "#Number of loans vs credit score\n",
        "avg_loans=data.groupby(\"Credit_Score\")[\"Num_of_Loan\"].mean().reset_index()\n",
        "fig=px.bar(avg_loans,x=\"Credit_Score\",y=\"Num_of_Loan\",title=\"Average Number of Loans by Credit Score\",color=\"Credit_Score\")\n",
        "fig.show()"
      ],
      "metadata": {
        "id": "zhUPzPOzDEUz"
      },
      "execution_count": null,
      "outputs": []
    },
    {
      "cell_type": "markdown",
      "source": [
        "Insights: Average Number of Loans by Credit Score\n",
        "\n",
        "- Individuals with a **'Poor' credit score** have the **highest average number of loans** (~4.8).\n",
        "- People in the **'Standard' category** take an average of around **3.3 loans**.\n",
        "- Those with a **'Good' credit score** have the **lowest average number of loans** (~2.2).\n",
        "- A **higher number of loans** appears to be associated with a **lower credit score**.\n"
      ],
      "metadata": {
        "id": "SVlbJAAZDlIz"
      }
    },
    {
      "cell_type": "code",
      "source": [
        "#Numer of delayed payment vs Credit score\n",
        "avg_delay=data.groupby(\"Credit_Score\")[\"Num_of_Delayed_Payment\"].mean().reset_index()\n",
        "fig=px.bar(avg_delay,x=\"Credit_Score\",y=\"Num_of_Delayed_Payment\",title=\"Average Number of Delayed Payments by Credit Score\",color=\"Credit_Score\")\n",
        "fig.show()"
      ],
      "metadata": {
        "id": "kgjZltnHD3gw"
      },
      "execution_count": null,
      "outputs": []
    },
    {
      "cell_type": "code",
      "source": [
        "fig=px.box(avg_delay,x=\"Num_of_Delayed_Payment\",title=\"Distribution of Number of Delayed Payments\")\n",
        "fig.show()"
      ],
      "metadata": {
        "collapsed": true,
        "id": "6xPety3-SGK1"
      },
      "execution_count": null,
      "outputs": []
    },
    {
      "cell_type": "markdown",
      "source": [
        "📊 Insights: Average Number of Delayed Payments by Credit Score\n",
        "\n",
        "- 🔴 **Poor Credit Score** has the **highest delayed payments** (~16), indicating poor repayment behavior.\n",
        "- 🟢 **Standard Credit Score** shows a **moderate number** of delays (~13–14), suggesting average payment discipline.\n",
        "- 🔵 **Good Credit Score** has the **lowest delayed payments** (~8), reflecting strong financial responsibility.\n",
        "\n",
        "---\n",
        "\n",
        " 🧠 Analytical Implications\n",
        "\n",
        "- 📉 Frequent delayed payments are strongly associated with **lower credit scores**.\n",
        "- ➤ This metric can be a **critical indicator** in credit risk assessment and score modeling.\n",
        "- ✅ Encouraging on-time payments can significantly improve overall credit health.\n"
      ],
      "metadata": {
        "id": "eFXGBxRlEt-i"
      }
    },
    {
      "cell_type": "code",
      "source": [
        "#Number of credit card vs Credit score\n",
        "avg_credit=data.groupby(\"Credit_Score\")[\"Num_Credit_Card\"].mean().reset_index()\n",
        "fig=px.bar(avg_credit,x=\"Credit_Score\",y=\"Num_Credit_Card\",title=\"Average Number of Credit Cards by Credit Score\",color=\"Credit_Score\")\n",
        "fig.show()\n"
      ],
      "metadata": {
        "id": "TNfOrBMoSfDJ"
      },
      "execution_count": null,
      "outputs": []
    },
    {
      "cell_type": "markdown",
      "source": [
        "📊 Insights: Average Number of Credit Cards by Credit Score\n",
        "\n",
        "- 🔴 **Poor Credit Score** users have the **highest number of credit cards** (~6.5), indicating possible over-dependence on credit.\n",
        "- 🟢 **Standard Credit Score** users have a **moderate number** of cards (~5.4), suggesting balanced credit usage.\n",
        "- 🔵 **Good Credit Score** users have the **fewest credit cards** (~4.2), which may reflect more disciplined or selective credit behavior.\n",
        "\n",
        "---\n",
        "\n",
        "🧠 Analytical Implications\n",
        "\n",
        "- 📉 Having **too many credit cards** may correlate with **poor credit scores**, possibly due to higher debt exposure or missed payments.\n",
        "- ✅ Fewer credit cards, when used responsibly, could be a trait of **good credit management**.\n",
        "- ➤ This feature can aid in identifying users at risk of **credit overextension**.\n"
      ],
      "metadata": {
        "id": "m12zt3-rTSHU"
      }
    },
    {
      "cell_type": "code",
      "source": [
        "#Changed Credit LImit vs  Credit Card\n",
        "avg_credit_limit=data.groupby(\"Num_Credit_Card\")[\"Changed_Credit_Limit\"].mean().reset_index()\n",
        "fig=px.bar(avg_credit_limit,x=\"Num_Credit_Card\",y=\"Changed_Credit_Limit\",title=\"Average Changed Credit Limit by Number of Credit Cards\",color=\"Num_Credit_Card\")\n",
        "fig.show()"
      ],
      "metadata": {
        "id": "88cO3TeATf_o"
      },
      "execution_count": null,
      "outputs": []
    },
    {
      "cell_type": "markdown",
      "source": [
        "📊 Insights: Average Changed Credit Limit by Number of Credit Cards\n",
        "\n",
        "- 🔢 Users with **more credit cards tend to have a higher average change in credit limit**.\n",
        "- 🟣 For users with **0 to 2 credit cards**, the average change in credit limit remains relatively low (~6–7 units).\n",
        "- 🟠 From **3 to 6 cards**, the limit increase becomes more noticeable (~9–10 units).\n",
        "- 🟡 Users with **8+ credit cards** experience the **highest changes**, reaching **~15–16 units**.\n",
        "\n",
        "---\n",
        "\n",
        "🧠 Analytical Implications\n",
        "\n",
        "- 💳 **Number of credit cards is positively correlated** with changes in credit limits, likely due to increased credit activity and usage.\n",
        "- 🔍 This trend may indicate **higher creditworthiness or risk exposure** among users with many credit cards.\n",
        "- ✅ Credit issuers may be **adjusting limits more frequently** based on usage patterns and repayment history.\n",
        "\n",
        "---\n",
        "\n",
        "📌 Note:\n",
        "- Having more cards might increase flexibility but also raises the importance of responsible usage to maintain a good credit score.\n"
      ],
      "metadata": {
        "id": "Y9UOznZiXni6"
      }
    },
    {
      "cell_type": "code",
      "source": [
        "#nterest rate vs Credit Score\n",
        "avg_interest=data.groupby(\"Credit_Score\")[\"Interest_Rate\"].mean().reset_index()\n",
        "fig=px.bar(avg_interest,x=\"Credit_Score\",y=\"Interest_Rate\",title=\"Average Interest Rate by Credit Score\",color=\"Credit_Score\")\n",
        "fig.show()"
      ],
      "metadata": {
        "id": "RJzSBTNcYF8S"
      },
      "execution_count": null,
      "outputs": []
    },
    {
      "cell_type": "markdown",
      "source": [
        "📊 Insights from \"Average Interest Rate by Credit Score\" Bar Chart\n",
        "\n",
        "* **Poor credit scores incur the highest average interest rates (approx. 20.19%).**\n",
        "* **Good credit scores receive the lowest average interest rates (around 7-8%).**\n",
        "* **Standard credit scores have moderate average interest rates (about 14%).**\n",
        "\n",
        "🧠 Implications:\n",
        "\n",
        "* **Interest rates directly reflect creditworthiness, with higher risk leading to higher rates.**\n",
        "* **Maintaining a good credit score offers significant financial benefits through lower interest rates.**\n",
        "* **Lenders effectively differentiate risk and pricing based on credit score categories.**\n",
        "\"\"\""
      ],
      "metadata": {
        "id": "71R5NW3EYyPC"
      }
    },
    {
      "cell_type": "code",
      "source": [
        "#occupation vs credit score\n",
        "avg_occupation=data.groupby(\"Credit_Score\")[\"Occupation\"].value_counts().reset_index(name=\"Count\")\n",
        "fig=px.pie(avg_occupation,names=\"Occupation\",values=\"Count\",color=\"Occupation\",title=\"Occupation Distribution by Credit Score\")\n",
        "fig.show()"
      ],
      "metadata": {
        "id": "J9qXLzJSZyhP"
      },
      "execution_count": null,
      "outputs": []
    },
    {
      "cell_type": "markdown",
      "source": [
        "📊 Insights from \"Occupation Distribution by Credit Score\" Pie Chart\n",
        "\n",
        "* **Occupation distribution across credit scores appears relatively even, with no single occupation dominating.**\n",
        "* **\"Writer\" is highlighted with a count of 6304, representing 6.3% of the total.**\n",
        "* **Most occupations fall within a narrow percentage range (approximately 6.3% to 7.1%).**\n",
        "\n",
        "🧠 **Implications:**\n",
        "\n",
        "* **Credit scores do not seem to be disproportionately tied to any specific occupation.**\n",
        "* **The dataset likely includes a diverse range of professions, preventing strong occupational bias in credit scoring.**\n",
        "* **Further analysis is needed to determine if subtle differences in credit behavior exist across these nearly equally represented occupations.**\n"
      ],
      "metadata": {
        "id": "hgq3kZ-iayB9"
      }
    },
    {
      "cell_type": "markdown",
      "source": [
        "## ***4.Multivariate Analysis***"
      ],
      "metadata": {
        "id": "GF8Ens_Soomf"
      }
    },
    {
      "cell_type": "code",
      "source": [
        "#Converting Credit Score in numerical column\n",
        "data['Credit_Score_Label'] = data['Credit_Score'].map({'Poor': 0, 'Standard': 1, 'Good': 2})"
      ],
      "metadata": {
        "collapsed": true,
        "id": "0-Jcmel9gIab"
      },
      "execution_count": null,
      "outputs": []
    },
    {
      "cell_type": "code",
      "source": [
        "heatmap_cols=[\"Annual_Income\",\"Outstanding_Debt\",\"Monthly_Balance\",\"Credit_Utilization_Ratio\",\"Num_of_Loan\",\"Num_of_Delayed_Payment\",\"Num_Credit_Card\",\"Changed_Credit_Limit\",\"Interest_Rate\",\"Credit_Score_Label\"]\n",
        "corr_matrix=data[heatmap_cols].corr()\n",
        "fig=px.imshow(corr_matrix,text_auto=True)\n",
        "plt.xticks(rotation=90)\n",
        "plt.yticks(rotation=0)\n",
        "fig.show()"
      ],
      "metadata": {
        "id": "LJveAspFhEb1"
      },
      "execution_count": null,
      "outputs": []
    },
    {
      "cell_type": "markdown",
      "source": [
        "📊 Insights from Correlation Heatmap\n",
        "\n",
        "\n",
        "* **Strong Negative Correlation with Interest Rate:** Credit_Score_Label has a very strong negative correlation with 'Interest_Rate' (dark blue square, implying higher credit scores mean lower interest rates).\n",
        "* **Negative Correlation with Credit Utilization Ratio:** There's a notable negative correlation between Credit_Score_Label and 'Credit_Utilization_Ratio', suggesting lower utilization is associated with better credit scores.\n",
        "* **Negative Correlation with Outstanding Debt and Delayed Payments:** Credit_Score_Label shows a negative correlation with 'Outstanding_Debt' and 'Num_of_Delayed_Payment', indicating that lower debt and fewer delayed payments correspond to higher credit scores.\n",
        "* **Positive Correlation with Changed Credit Limit and Monthly Balance:** There's a positive correlation with 'Changed_Credit_Limit' (likely implying more credit availability for better scores) and 'Monthly_Balance'.\n",
        "* **Weak/Negligible Correlation with Annual Income, Num_of_Loan, Num_Credit_Card:** Credit_Score_Label has very weak correlations with 'Annual_Income', 'Num_of_Loan', and 'Num_Credit_Card'.\n",
        "\n",
        "🧠 Implications:\n",
        "\n",
        "* **Interest Rate is a Primary Consequence:** Credit Score Label is a strong predictor of the 'Interest_Rate' a borrower will receive.\n",
        "* **Key Drivers of Credit Score:** Managing 'Credit_Utilization_Ratio', 'Outstanding_Debt', and 'Num_of_Delayed_Payment' are crucial for improving or maintaining a good credit score.\n",
        "* **Credit Limit Increases as a Reward:** Higher credit scores may lead to 'Changed_Credit_Limit' increases.\n",
        "* **Income and Loan/Card Count Less Direct:** Personal income, number of loans, or credit cards held do not appear to be primary direct drivers of the 'Credit_Score_Label' itself, though they might influence other factors.\n"
      ],
      "metadata": {
        "id": "pmwybCoVi1AP"
      }
    },
    {
      "cell_type": "markdown",
      "source": [
        "# **Conclusion**"
      ],
      "metadata": {
        "id": "gCX9965dhzqZ"
      }
    },
    {
      "cell_type": "markdown",
      "source": [
        "## 🔴 **Strong Negative Correlations (Higher Credit Score, Lower Value):**\n",
        "\n",
        "* Interest_Rate (-0.485): As credit score improves, the interest rate tends to decrease significantly.\n",
        "\n",
        "* Num_Credit_Inquiries (-0.435): More credit inquiries are associated with lower credit scores.\n",
        "\n",
        "* Delay_from_due_date (-0.431): Longer delays from due dates are strongly linked to lower credit scores.\n",
        "\n",
        "* Num_Credit_Card (-0.404): A higher number of credit cards is surprisingly associated with lower credit scores.\n",
        "\n",
        "* Num_Bank_Accounts (-0.388): A higher number of bank accounts shows a negative correlation with credit score.\n",
        "\n",
        "* Outstanding_Debt (-0.387): Higher outstanding debt is correlated with lower credit scores.\n",
        "\n",
        "* Num_of_Delayed_Payment (-0.373): More delayed payments lead to lower credit scores.\n",
        "\n",
        "* Num_of_Loan (-0.358): A higher number of loans is somewhat associated with lower credit scores.\n",
        "\n",
        "* Changed_Credit_Limit (-0.171): While weaker, a negative correlation suggests less frequent changes to credit limits might be associated with higher credit scores.\n",
        "\n",
        "## 🟢  **Strong Positive Correlations (Higher Credit Score, Higher Value):**\n",
        "\n",
        "* Credit_History_Age (0.389): Older credit history is positively correlated with higher credit scores, which is expected.\n",
        "\n",
        "## 🟠 **Moderate Positive Correlations:**\n",
        "\n",
        "* Annual_Income (0.213): Higher annual income has a moderate positive correlation with credit score.\n",
        "\n",
        "* Monthly_Inhand_Salary (0.210): Similar to annual income, higher monthly in-hand salary is moderately linked to better credit scores.\n",
        "\n",
        "* Monthly_Balance (0.198): A higher monthly balance shows a positive correlation with credit score.\n",
        "\n",
        "* Amount_invested_monthly (0.172): Higher monthly investment amounts are somewhat positively correlated with better credit scores.\n",
        "\n",
        "## ⚪**Weak/Negligible Correlations:**\n",
        "\n",
        "* Credit_Utilization_Ratio (0.046): Surprisingly, the correlation with credit utilization ratio is very weak, suggesting it might not be a primary linear driver of the Credit_Score_Label in this dataset, or its relationship is non-linear.\n",
        "\n",
        "* Total_EMI_per_month (0.017): There's almost no linear correlation between total EMI per month and credit score."
      ],
      "metadata": {
        "id": "Fjb1IsQkh3yE"
      }
    }
  ]
}